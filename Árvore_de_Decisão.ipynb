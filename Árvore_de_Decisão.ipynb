{
  "nbformat": 4,
  "nbformat_minor": 0,
  "metadata": {
    "colab": {
      "provenance": [],
      "toc_visible": true,
      "mount_file_id": "1SFD48gw3YdaL0JkMjLYuPpHJWDumitGj",
      "authorship_tag": "ABX9TyO8qouH/+snrwzETHR7zstv",
      "include_colab_link": true
    },
    "kernelspec": {
      "name": "python3",
      "display_name": "Python 3"
    },
    "language_info": {
      "name": "python"
    }
  },
  "cells": [
    {
      "cell_type": "markdown",
      "metadata": {
        "id": "view-in-github",
        "colab_type": "text"
      },
      "source": [
        "<a href=\"https://colab.research.google.com/github/deborammartins/Data_Analytics/blob/main/%C3%81rvore_de_Decis%C3%A3o.ipynb\" target=\"_parent\"><img src=\"https://colab.research.google.com/assets/colab-badge.svg\" alt=\"Open In Colab\"/></a>"
      ]
    },
    {
      "cell_type": "markdown",
      "source": [
        "Descrição: Notebook para estudos sobre Árvore de Decisão.\n",
        "\n",
        "Dados retirados do Kaggle para análise de transações bancárias.\n",
        "\n",
        "https://www.kaggle.com/datasets/mlg-ulb/creditcardfraud"
      ],
      "metadata": {
        "id": "F_F9LSeoUxWX"
      }
    },
    {
      "cell_type": "markdown",
      "source": [
        "#Glossário de Variáveis\n",
        "\n",
        "Time - Tempo contado a partir da primeira transação\n",
        "\n",
        "Amount - Valor da transação"
      ],
      "metadata": {
        "id": "DzQkBYESbqEx"
      }
    },
    {
      "cell_type": "markdown",
      "source": [
        "#Importando Bibliotecas"
      ],
      "metadata": {
        "id": "pV04TpGebHnG"
      }
    },
    {
      "cell_type": "code",
      "execution_count": 61,
      "metadata": {
        "id": "wOb8sfNXGTnk"
      },
      "outputs": [],
      "source": [
        "import pandas as pd\n",
        "from sklearn.model_selection import StratifiedShuffleSplit\n",
        "from sklearn import tree\n",
        "import matplotlib.pyplot as plt\n",
        "from sklearn.metrics import accuracy_score\n",
        "from sklearn.metrics import confusion_matrix\n",
        "from sklearn.metrics import precision_score\n",
        "from sklearn.metrics import recall_score\n",
        "from sklearn.ensemble import RandomForestClassifier\n",
        "from sklearn.ensemble import AdaBoostClassifier"
      ]
    },
    {
      "cell_type": "markdown",
      "source": [
        "#Importação dos Dados"
      ],
      "metadata": {
        "id": "o3tysKrjbNjI"
      }
    },
    {
      "cell_type": "code",
      "source": [
        "dados = pd.read_csv('/content/drive/MyDrive/creditcard.csv')"
      ],
      "metadata": {
        "id": "7HRQNmDdbMxp"
      },
      "execution_count": 26,
      "outputs": []
    },
    {
      "cell_type": "code",
      "source": [
        "dados.head()"
      ],
      "metadata": {
        "colab": {
          "base_uri": "https://localhost:8080/",
          "height": 299
        },
        "id": "e2Bw6znobYkb",
        "outputId": "208b189f-8e97-45b7-eda6-f5539b4df180"
      },
      "execution_count": 27,
      "outputs": [
        {
          "output_type": "execute_result",
          "data": {
            "text/plain": [
              "   Time        V1        V2        V3        V4        V5        V6        V7  \\\n",
              "0   0.0 -1.359807 -0.072781  2.536347  1.378155 -0.338321  0.462388  0.239599   \n",
              "1   0.0  1.191857  0.266151  0.166480  0.448154  0.060018 -0.082361 -0.078803   \n",
              "2   1.0 -1.358354 -1.340163  1.773209  0.379780 -0.503198  1.800499  0.791461   \n",
              "3   1.0 -0.966272 -0.185226  1.792993 -0.863291 -0.010309  1.247203  0.237609   \n",
              "4   2.0 -1.158233  0.877737  1.548718  0.403034 -0.407193  0.095921  0.592941   \n",
              "\n",
              "         V8        V9  ...       V21       V22       V23       V24       V25  \\\n",
              "0  0.098698  0.363787  ... -0.018307  0.277838 -0.110474  0.066928  0.128539   \n",
              "1  0.085102 -0.255425  ... -0.225775 -0.638672  0.101288 -0.339846  0.167170   \n",
              "2  0.247676 -1.514654  ...  0.247998  0.771679  0.909412 -0.689281 -0.327642   \n",
              "3  0.377436 -1.387024  ... -0.108300  0.005274 -0.190321 -1.175575  0.647376   \n",
              "4 -0.270533  0.817739  ... -0.009431  0.798278 -0.137458  0.141267 -0.206010   \n",
              "\n",
              "        V26       V27       V28  Amount  Class  \n",
              "0 -0.189115  0.133558 -0.021053  149.62      0  \n",
              "1  0.125895 -0.008983  0.014724    2.69      0  \n",
              "2 -0.139097 -0.055353 -0.059752  378.66      0  \n",
              "3 -0.221929  0.062723  0.061458  123.50      0  \n",
              "4  0.502292  0.219422  0.215153   69.99      0  \n",
              "\n",
              "[5 rows x 31 columns]"
            ],
            "text/html": [
              "\n",
              "\n",
              "  <div id=\"df-e34c804c-688c-4c68-86b4-8f262ac7ec5d\">\n",
              "    <div class=\"colab-df-container\">\n",
              "      <div>\n",
              "<style scoped>\n",
              "    .dataframe tbody tr th:only-of-type {\n",
              "        vertical-align: middle;\n",
              "    }\n",
              "\n",
              "    .dataframe tbody tr th {\n",
              "        vertical-align: top;\n",
              "    }\n",
              "\n",
              "    .dataframe thead th {\n",
              "        text-align: right;\n",
              "    }\n",
              "</style>\n",
              "<table border=\"1\" class=\"dataframe\">\n",
              "  <thead>\n",
              "    <tr style=\"text-align: right;\">\n",
              "      <th></th>\n",
              "      <th>Time</th>\n",
              "      <th>V1</th>\n",
              "      <th>V2</th>\n",
              "      <th>V3</th>\n",
              "      <th>V4</th>\n",
              "      <th>V5</th>\n",
              "      <th>V6</th>\n",
              "      <th>V7</th>\n",
              "      <th>V8</th>\n",
              "      <th>V9</th>\n",
              "      <th>...</th>\n",
              "      <th>V21</th>\n",
              "      <th>V22</th>\n",
              "      <th>V23</th>\n",
              "      <th>V24</th>\n",
              "      <th>V25</th>\n",
              "      <th>V26</th>\n",
              "      <th>V27</th>\n",
              "      <th>V28</th>\n",
              "      <th>Amount</th>\n",
              "      <th>Class</th>\n",
              "    </tr>\n",
              "  </thead>\n",
              "  <tbody>\n",
              "    <tr>\n",
              "      <th>0</th>\n",
              "      <td>0.0</td>\n",
              "      <td>-1.359807</td>\n",
              "      <td>-0.072781</td>\n",
              "      <td>2.536347</td>\n",
              "      <td>1.378155</td>\n",
              "      <td>-0.338321</td>\n",
              "      <td>0.462388</td>\n",
              "      <td>0.239599</td>\n",
              "      <td>0.098698</td>\n",
              "      <td>0.363787</td>\n",
              "      <td>...</td>\n",
              "      <td>-0.018307</td>\n",
              "      <td>0.277838</td>\n",
              "      <td>-0.110474</td>\n",
              "      <td>0.066928</td>\n",
              "      <td>0.128539</td>\n",
              "      <td>-0.189115</td>\n",
              "      <td>0.133558</td>\n",
              "      <td>-0.021053</td>\n",
              "      <td>149.62</td>\n",
              "      <td>0</td>\n",
              "    </tr>\n",
              "    <tr>\n",
              "      <th>1</th>\n",
              "      <td>0.0</td>\n",
              "      <td>1.191857</td>\n",
              "      <td>0.266151</td>\n",
              "      <td>0.166480</td>\n",
              "      <td>0.448154</td>\n",
              "      <td>0.060018</td>\n",
              "      <td>-0.082361</td>\n",
              "      <td>-0.078803</td>\n",
              "      <td>0.085102</td>\n",
              "      <td>-0.255425</td>\n",
              "      <td>...</td>\n",
              "      <td>-0.225775</td>\n",
              "      <td>-0.638672</td>\n",
              "      <td>0.101288</td>\n",
              "      <td>-0.339846</td>\n",
              "      <td>0.167170</td>\n",
              "      <td>0.125895</td>\n",
              "      <td>-0.008983</td>\n",
              "      <td>0.014724</td>\n",
              "      <td>2.69</td>\n",
              "      <td>0</td>\n",
              "    </tr>\n",
              "    <tr>\n",
              "      <th>2</th>\n",
              "      <td>1.0</td>\n",
              "      <td>-1.358354</td>\n",
              "      <td>-1.340163</td>\n",
              "      <td>1.773209</td>\n",
              "      <td>0.379780</td>\n",
              "      <td>-0.503198</td>\n",
              "      <td>1.800499</td>\n",
              "      <td>0.791461</td>\n",
              "      <td>0.247676</td>\n",
              "      <td>-1.514654</td>\n",
              "      <td>...</td>\n",
              "      <td>0.247998</td>\n",
              "      <td>0.771679</td>\n",
              "      <td>0.909412</td>\n",
              "      <td>-0.689281</td>\n",
              "      <td>-0.327642</td>\n",
              "      <td>-0.139097</td>\n",
              "      <td>-0.055353</td>\n",
              "      <td>-0.059752</td>\n",
              "      <td>378.66</td>\n",
              "      <td>0</td>\n",
              "    </tr>\n",
              "    <tr>\n",
              "      <th>3</th>\n",
              "      <td>1.0</td>\n",
              "      <td>-0.966272</td>\n",
              "      <td>-0.185226</td>\n",
              "      <td>1.792993</td>\n",
              "      <td>-0.863291</td>\n",
              "      <td>-0.010309</td>\n",
              "      <td>1.247203</td>\n",
              "      <td>0.237609</td>\n",
              "      <td>0.377436</td>\n",
              "      <td>-1.387024</td>\n",
              "      <td>...</td>\n",
              "      <td>-0.108300</td>\n",
              "      <td>0.005274</td>\n",
              "      <td>-0.190321</td>\n",
              "      <td>-1.175575</td>\n",
              "      <td>0.647376</td>\n",
              "      <td>-0.221929</td>\n",
              "      <td>0.062723</td>\n",
              "      <td>0.061458</td>\n",
              "      <td>123.50</td>\n",
              "      <td>0</td>\n",
              "    </tr>\n",
              "    <tr>\n",
              "      <th>4</th>\n",
              "      <td>2.0</td>\n",
              "      <td>-1.158233</td>\n",
              "      <td>0.877737</td>\n",
              "      <td>1.548718</td>\n",
              "      <td>0.403034</td>\n",
              "      <td>-0.407193</td>\n",
              "      <td>0.095921</td>\n",
              "      <td>0.592941</td>\n",
              "      <td>-0.270533</td>\n",
              "      <td>0.817739</td>\n",
              "      <td>...</td>\n",
              "      <td>-0.009431</td>\n",
              "      <td>0.798278</td>\n",
              "      <td>-0.137458</td>\n",
              "      <td>0.141267</td>\n",
              "      <td>-0.206010</td>\n",
              "      <td>0.502292</td>\n",
              "      <td>0.219422</td>\n",
              "      <td>0.215153</td>\n",
              "      <td>69.99</td>\n",
              "      <td>0</td>\n",
              "    </tr>\n",
              "  </tbody>\n",
              "</table>\n",
              "<p>5 rows × 31 columns</p>\n",
              "</div>\n",
              "      <button class=\"colab-df-convert\" onclick=\"convertToInteractive('df-e34c804c-688c-4c68-86b4-8f262ac7ec5d')\"\n",
              "              title=\"Convert this dataframe to an interactive table.\"\n",
              "              style=\"display:none;\">\n",
              "\n",
              "  <svg xmlns=\"http://www.w3.org/2000/svg\" height=\"24px\"viewBox=\"0 0 24 24\"\n",
              "       width=\"24px\">\n",
              "    <path d=\"M0 0h24v24H0V0z\" fill=\"none\"/>\n",
              "    <path d=\"M18.56 5.44l.94 2.06.94-2.06 2.06-.94-2.06-.94-.94-2.06-.94 2.06-2.06.94zm-11 1L8.5 8.5l.94-2.06 2.06-.94-2.06-.94L8.5 2.5l-.94 2.06-2.06.94zm10 10l.94 2.06.94-2.06 2.06-.94-2.06-.94-.94-2.06-.94 2.06-2.06.94z\"/><path d=\"M17.41 7.96l-1.37-1.37c-.4-.4-.92-.59-1.43-.59-.52 0-1.04.2-1.43.59L10.3 9.45l-7.72 7.72c-.78.78-.78 2.05 0 2.83L4 21.41c.39.39.9.59 1.41.59.51 0 1.02-.2 1.41-.59l7.78-7.78 2.81-2.81c.8-.78.8-2.07 0-2.86zM5.41 20L4 18.59l7.72-7.72 1.47 1.35L5.41 20z\"/>\n",
              "  </svg>\n",
              "      </button>\n",
              "\n",
              "\n",
              "\n",
              "    <div id=\"df-bc075e3d-c5f9-4f3e-8266-b791ed643148\">\n",
              "      <button class=\"colab-df-quickchart\" onclick=\"quickchart('df-bc075e3d-c5f9-4f3e-8266-b791ed643148')\"\n",
              "              title=\"Suggest charts.\"\n",
              "              style=\"display:none;\">\n",
              "\n",
              "<svg xmlns=\"http://www.w3.org/2000/svg\" height=\"24px\"viewBox=\"0 0 24 24\"\n",
              "     width=\"24px\">\n",
              "    <g>\n",
              "        <path d=\"M19 3H5c-1.1 0-2 .9-2 2v14c0 1.1.9 2 2 2h14c1.1 0 2-.9 2-2V5c0-1.1-.9-2-2-2zM9 17H7v-7h2v7zm4 0h-2V7h2v10zm4 0h-2v-4h2v4z\"/>\n",
              "    </g>\n",
              "</svg>\n",
              "      </button>\n",
              "    </div>\n",
              "\n",
              "<style>\n",
              "  .colab-df-quickchart {\n",
              "    background-color: #E8F0FE;\n",
              "    border: none;\n",
              "    border-radius: 50%;\n",
              "    cursor: pointer;\n",
              "    display: none;\n",
              "    fill: #1967D2;\n",
              "    height: 32px;\n",
              "    padding: 0 0 0 0;\n",
              "    width: 32px;\n",
              "  }\n",
              "\n",
              "  .colab-df-quickchart:hover {\n",
              "    background-color: #E2EBFA;\n",
              "    box-shadow: 0px 1px 2px rgba(60, 64, 67, 0.3), 0px 1px 3px 1px rgba(60, 64, 67, 0.15);\n",
              "    fill: #174EA6;\n",
              "  }\n",
              "\n",
              "  [theme=dark] .colab-df-quickchart {\n",
              "    background-color: #3B4455;\n",
              "    fill: #D2E3FC;\n",
              "  }\n",
              "\n",
              "  [theme=dark] .colab-df-quickchart:hover {\n",
              "    background-color: #434B5C;\n",
              "    box-shadow: 0px 1px 3px 1px rgba(0, 0, 0, 0.15);\n",
              "    filter: drop-shadow(0px 1px 2px rgba(0, 0, 0, 0.3));\n",
              "    fill: #FFFFFF;\n",
              "  }\n",
              "</style>\n",
              "\n",
              "    <script>\n",
              "      async function quickchart(key) {\n",
              "        const containerElement = document.querySelector('#' + key);\n",
              "        const charts = await google.colab.kernel.invokeFunction(\n",
              "            'suggestCharts', [key], {});\n",
              "      }\n",
              "    </script>\n",
              "\n",
              "      <script>\n",
              "\n",
              "function displayQuickchartButton(domScope) {\n",
              "  let quickchartButtonEl =\n",
              "    domScope.querySelector('#df-bc075e3d-c5f9-4f3e-8266-b791ed643148 button.colab-df-quickchart');\n",
              "  quickchartButtonEl.style.display =\n",
              "    google.colab.kernel.accessAllowed ? 'block' : 'none';\n",
              "}\n",
              "\n",
              "        displayQuickchartButton(document);\n",
              "      </script>\n",
              "      <style>\n",
              "    .colab-df-container {\n",
              "      display:flex;\n",
              "      flex-wrap:wrap;\n",
              "      gap: 12px;\n",
              "    }\n",
              "\n",
              "    .colab-df-convert {\n",
              "      background-color: #E8F0FE;\n",
              "      border: none;\n",
              "      border-radius: 50%;\n",
              "      cursor: pointer;\n",
              "      display: none;\n",
              "      fill: #1967D2;\n",
              "      height: 32px;\n",
              "      padding: 0 0 0 0;\n",
              "      width: 32px;\n",
              "    }\n",
              "\n",
              "    .colab-df-convert:hover {\n",
              "      background-color: #E2EBFA;\n",
              "      box-shadow: 0px 1px 2px rgba(60, 64, 67, 0.3), 0px 1px 3px 1px rgba(60, 64, 67, 0.15);\n",
              "      fill: #174EA6;\n",
              "    }\n",
              "\n",
              "    [theme=dark] .colab-df-convert {\n",
              "      background-color: #3B4455;\n",
              "      fill: #D2E3FC;\n",
              "    }\n",
              "\n",
              "    [theme=dark] .colab-df-convert:hover {\n",
              "      background-color: #434B5C;\n",
              "      box-shadow: 0px 1px 3px 1px rgba(0, 0, 0, 0.15);\n",
              "      filter: drop-shadow(0px 1px 2px rgba(0, 0, 0, 0.3));\n",
              "      fill: #FFFFFF;\n",
              "    }\n",
              "  </style>\n",
              "\n",
              "      <script>\n",
              "        const buttonEl =\n",
              "          document.querySelector('#df-e34c804c-688c-4c68-86b4-8f262ac7ec5d button.colab-df-convert');\n",
              "        buttonEl.style.display =\n",
              "          google.colab.kernel.accessAllowed ? 'block' : 'none';\n",
              "\n",
              "        async function convertToInteractive(key) {\n",
              "          const element = document.querySelector('#df-e34c804c-688c-4c68-86b4-8f262ac7ec5d');\n",
              "          const dataTable =\n",
              "            await google.colab.kernel.invokeFunction('convertToInteractive',\n",
              "                                                     [key], {});\n",
              "          if (!dataTable) return;\n",
              "\n",
              "          const docLinkHtml = 'Like what you see? Visit the ' +\n",
              "            '<a target=\"_blank\" href=https://colab.research.google.com/notebooks/data_table.ipynb>data table notebook</a>'\n",
              "            + ' to learn more about interactive tables.';\n",
              "          element.innerHTML = '';\n",
              "          dataTable['output_type'] = 'display_data';\n",
              "          await google.colab.output.renderOutput(dataTable, element);\n",
              "          const docLink = document.createElement('div');\n",
              "          docLink.innerHTML = docLinkHtml;\n",
              "          element.appendChild(docLink);\n",
              "        }\n",
              "      </script>\n",
              "    </div>\n",
              "  </div>\n"
            ]
          },
          "metadata": {},
          "execution_count": 27
        }
      ]
    },
    {
      "cell_type": "markdown",
      "source": [
        "#Análise Descritiva"
      ],
      "metadata": {
        "id": "FX-VyNJAcqPa"
      }
    },
    {
      "cell_type": "code",
      "source": [
        "dados.isna().sum()"
      ],
      "metadata": {
        "colab": {
          "base_uri": "https://localhost:8080/"
        },
        "id": "b0hMdJpbbbl6",
        "outputId": "c36cf43f-0369-4cdd-ae6f-619a911bffce"
      },
      "execution_count": 28,
      "outputs": [
        {
          "output_type": "execute_result",
          "data": {
            "text/plain": [
              "Time      0\n",
              "V1        0\n",
              "V2        0\n",
              "V3        0\n",
              "V4        0\n",
              "V5        0\n",
              "V6        0\n",
              "V7        0\n",
              "V8        0\n",
              "V9        0\n",
              "V10       0\n",
              "V11       0\n",
              "V12       0\n",
              "V13       0\n",
              "V14       0\n",
              "V15       0\n",
              "V16       0\n",
              "V17       0\n",
              "V18       0\n",
              "V19       0\n",
              "V20       0\n",
              "V21       0\n",
              "V22       0\n",
              "V23       0\n",
              "V24       0\n",
              "V25       0\n",
              "V26       0\n",
              "V27       0\n",
              "V28       0\n",
              "Amount    0\n",
              "Class     0\n",
              "dtype: int64"
            ]
          },
          "metadata": {},
          "execution_count": 28
        }
      ]
    },
    {
      "cell_type": "markdown",
      "source": [
        "Não temos dados nulos."
      ],
      "metadata": {
        "id": "GQXRg3undEWi"
      }
    },
    {
      "cell_type": "code",
      "source": [
        "n_transacoes = dados['Class'].count()\n",
        "n_fraudes = dados['Class'].sum() #As fraudes são classificadas como 1\n",
        "n_normais = n_transacoes - n_fraudes\n",
        "fraudes_porc = n_fraudes/n_transacoes\n",
        "normais_porc = n_normais/n_transacoes\n",
        "\n",
        "print(f\"Número de transações: {n_transacoes}\")\n",
        "print(f\"Número de fraudes: {n_fraudes}\")\n",
        "print(f\"Porcentagem de fraudes: {(fraudes_porc*100).round(2)}%\")\n",
        "print(f\"Número de transações normais: {n_normais}\")\n",
        "print(f\"Porcentagem de transações normais: {(normais_porc*100).round(2)}%\")"
      ],
      "metadata": {
        "colab": {
          "base_uri": "https://localhost:8080/"
        },
        "id": "SgGl61sHdAbq",
        "outputId": "e458adc3-9b63-4543-ff34-494034011e67"
      },
      "execution_count": 29,
      "outputs": [
        {
          "output_type": "stream",
          "name": "stdout",
          "text": [
            "Número de transações: 284807\n",
            "Número de fraudes: 492\n",
            "Porcentagem de fraudes: 0.17%\n",
            "Número de transações normais: 284315\n",
            "Porcentagem de transações normais: 99.83%\n"
          ]
        }
      ]
    },
    {
      "cell_type": "markdown",
      "source": [
        "#Divisão em Dados de Treino e Teste"
      ],
      "metadata": {
        "id": "xN-fMwhVh1hG"
      }
    },
    {
      "cell_type": "code",
      "source": [
        "#Variáveis explicativas\n",
        "X = dados.drop('Class', axis=1).values\n",
        "#Variável dependente\n",
        "y = dados['Class'].values"
      ],
      "metadata": {
        "id": "8cGvZdUBqS6d"
      },
      "execution_count": 30,
      "outputs": []
    },
    {
      "cell_type": "code",
      "source": [
        "def executar_validador(X, y):\n",
        "#Validador com 1 divisão de conjuntos (n_split), tamanho do teste de 10% dos dados\n",
        "  validador = StratifiedShuffleSplit(n_splits=1, test_size=0.1, random_state=0)\n",
        "\n",
        "  for treino_id, teste_id in validador.split(X, y):\n",
        "    X_train, X_test = X[treino_id], X[teste_id]\n",
        "    y_train, y_test = y[treino_id], y[teste_id]\n",
        "\n",
        "  return X_train, X_test, y_train, y_test"
      ],
      "metadata": {
        "id": "9rv_FpIReUvq"
      },
      "execution_count": 31,
      "outputs": []
    },
    {
      "cell_type": "markdown",
      "source": [
        "#Criando a Árvore de Decisão"
      ],
      "metadata": {
        "id": "CL69mWrdsVMo"
      }
    },
    {
      "cell_type": "code",
      "source": [
        "#Mostra o tempo que levou para executar a célula\n",
        "%%time\n",
        "def executar_class(classificador, X_train, X_test, y_train):\n",
        "\n",
        "#Treinando a arvore com os dados de treino\n",
        "  arvore = class_arvore_decisao.fit(X_train, y_train)\n",
        "#Criando a predição sobre os dados de teste\n",
        "  y_pred = arvore.predict(X_test)\n",
        "\n",
        "  return y_pred"
      ],
      "metadata": {
        "colab": {
          "base_uri": "https://localhost:8080/"
        },
        "id": "S7OuhzR1sOdF",
        "outputId": "2d0cbf07-0f51-4175-b2f6-aa0ea555552e"
      },
      "execution_count": 32,
      "outputs": [
        {
          "output_type": "stream",
          "name": "stdout",
          "text": [
            "CPU times: user 6 µs, sys: 1 µs, total: 7 µs\n",
            "Wall time: 11.4 µs\n"
          ]
        }
      ]
    },
    {
      "cell_type": "code",
      "source": [
        "#Execução d validador\n",
        "X_train, X_test, y_train, y_test = executar_validador(X, y)\n",
        "#Criando a classificação da arvore\n",
        "class_arvore_decisao = tree.DecisionTreeClassifier()"
      ],
      "metadata": {
        "id": "cTIi9Xr1qJSw"
      },
      "execution_count": 33,
      "outputs": []
    },
    {
      "cell_type": "code",
      "source": [
        "#Execução do classificador\n",
        "y_pred_arvore = executar_class(class_arvore_decisao, X_train, X_test, y_train)"
      ],
      "metadata": {
        "id": "Zl67jmIRs3XO"
      },
      "execution_count": 34,
      "outputs": []
    },
    {
      "cell_type": "markdown",
      "source": [
        "#Gerando a imagem da Árvore"
      ],
      "metadata": {
        "id": "Ow4L3DP2vwws"
      }
    },
    {
      "cell_type": "code",
      "source": [
        "def salvar_arvore(classificador, nome):\n",
        "  plt.figure(figsize=(200, 100))\n",
        "  tree.plot_tree(classificador, filled=True, fontsize=14)\n",
        "  plt.savefig(nome)\n",
        "  plt.close()"
      ],
      "metadata": {
        "id": "wJFMF79ZvHd1"
      },
      "execution_count": 35,
      "outputs": []
    },
    {
      "cell_type": "code",
      "source": [
        "#Criando a figura da árvore de decisão\n",
        "salvar_arvore(class_arvore_decisao, \"arvore_decisao1.png\")\n",
        "#IMPORTANTE! Faça o dowload pois demora pra carregar aqui"
      ],
      "metadata": {
        "id": "sqwEK9MdwRtX"
      },
      "execution_count": 36,
      "outputs": []
    },
    {
      "cell_type": "markdown",
      "source": [
        "X[17] = V17\n",
        "\n",
        "Nós Laranja = contém mais transações normais\n",
        "\n",
        "Nós Azuis = contém mais transações fraudulentas"
      ],
      "metadata": {
        "id": "dUmxlaw-0p1b"
      }
    },
    {
      "cell_type": "markdown",
      "source": [
        "#Avaliando Métricas"
      ],
      "metadata": {
        "id": "gFAE9KdN13Zx"
      }
    },
    {
      "cell_type": "code",
      "source": [
        "def validar_arvore(y_test, y_pred):\n",
        "  #Acurácia = numero de acertos em y_pred/ numero de transações y_test\n",
        "  print(f\"A acurácia da Árvore é de {accuracy_score(y_test, y_pred)}.\")\n",
        "  print(f'''A matriz de confusão:\n",
        "  {confusion_matrix(y_test, y_pred)}''')\n",
        "  print(f\"Score de Precisão: {precision_score(y_test, y_pred)}\")\n",
        "  #Recall = verdadeiro positivo / (verdadeiro positivo + falsos negativos)\n",
        "  print(f\"Recall Score: {recall_score(y_test, y_pred)}\")"
      ],
      "metadata": {
        "id": "8rBivxjOz8jJ"
      },
      "execution_count": 37,
      "outputs": []
    },
    {
      "cell_type": "code",
      "source": [
        "#Validação da Arvore\n",
        "validar_arvore(y_test, y_pred_arvore)"
      ],
      "metadata": {
        "colab": {
          "base_uri": "https://localhost:8080/"
        },
        "id": "SqCueF442Rrn",
        "outputId": "a50d3a35-8ef8-4e12-cbd2-305ae0c9b89c"
      },
      "execution_count": 38,
      "outputs": [
        {
          "output_type": "stream",
          "name": "stdout",
          "text": [
            "A acurácia da Árvore é de 0.9991573329588147.\n",
            "A matriz de confusão:\n",
            "  [[28421    11]\n",
            " [   13    36]]\n",
            "Score de Precisão: 0.7659574468085106\n",
            "Recall Score: 0.7346938775510204\n"
          ]
        }
      ]
    },
    {
      "cell_type": "markdown",
      "source": [
        "A primeira linha representa as transações sem fraude (28419 acertos e 13 erros nessa classificação).\n",
        "\n",
        "A segunda linha representa as transações fraudulentas (11 erros e 36 acertos nessa classificação).\n",
        "\n",
        "Nosso modelo errou 25 vezes no processo de classificação.\n",
        "\n",
        "Nossos dados são desbalanceados.\n",
        "\n",
        "*Obs: uma acurácia de 99% indica que nos casos de transações verdadeiramente fraudulentas, nosso modelo conseguiu classificar praticamente todas. Porém, o score de precisão é de 75%, indicando que nem todas as transações classificadas como fraudulentas são fraudes. Ou seja, são falsos positivos.\n",
        "\n",
        "O Recall nos fornece a porcentagem de verdadeiros positivos, ou seja, de transações verdadeiramente fraudulentas. SEMPRE utilizar essa métrica para termos uma visão da acurácia."
      ],
      "metadata": {
        "id": "3iBAJykK4WTo"
      }
    },
    {
      "cell_type": "markdown",
      "source": [
        "##Limitando a profundidade da Árvore"
      ],
      "metadata": {
        "id": "nSCUfUPb1Q85"
      }
    },
    {
      "cell_type": "code",
      "source": [
        "#Obtendo a profundidade da Árvore\n",
        "print(class_arvore_decisao.get_depth())"
      ],
      "metadata": {
        "id": "hOxVhPN22daf",
        "colab": {
          "base_uri": "https://localhost:8080/"
        },
        "outputId": "015d9943-464c-47c7-dcef-59cec2307ed5"
      },
      "execution_count": 39,
      "outputs": [
        {
          "output_type": "stream",
          "name": "stdout",
          "text": [
            "21\n"
          ]
        }
      ]
    },
    {
      "cell_type": "markdown",
      "source": [
        "É importante termos no máximo 10 de profundidade para evitarmos o Overfitting."
      ],
      "metadata": {
        "id": "omIBP3Ty0l63"
      }
    },
    {
      "cell_type": "code",
      "source": [
        "#Criando a classificação da arvore com limite de profundidade\n",
        "class_arvore_decisao = tree.DecisionTreeClassifier(max_depth=10, random_state=0)\n",
        "#Execução do classificador\n",
        "y_pred_arvore = executar_class(class_arvore_decisao, X_train, X_test, y_train)"
      ],
      "metadata": {
        "id": "vD1hrpix0TKm"
      },
      "execution_count": 40,
      "outputs": []
    },
    {
      "cell_type": "code",
      "source": [
        "#Validação da Arvore\n",
        "validar_arvore(y_test, y_pred_arvore)"
      ],
      "metadata": {
        "colab": {
          "base_uri": "https://localhost:8080/"
        },
        "id": "a_JffQ3j1bf-",
        "outputId": "b6a1cee5-3cb8-417d-e4f4-55f4c2dc0ce6"
      },
      "execution_count": 41,
      "outputs": [
        {
          "output_type": "stream",
          "name": "stdout",
          "text": [
            "A acurácia da Árvore é de 0.9994733330992591.\n",
            "A matriz de confusão:\n",
            "  [[28430     2]\n",
            " [   13    36]]\n",
            "Score de Precisão: 0.9473684210526315\n",
            "Recall Score: 0.7346938775510204\n"
          ]
        }
      ]
    },
    {
      "cell_type": "markdown",
      "source": [
        "Ao limitarmos a profundidade, obtivemos uma melhor precisão, mas ainda precisamos ajustar o recall."
      ],
      "metadata": {
        "id": "Jh14P-Kj1jAu"
      }
    },
    {
      "cell_type": "markdown",
      "source": [
        "##Estipulando o valor mínimo de amostras por nó"
      ],
      "metadata": {
        "id": "n10ucm32151H"
      }
    },
    {
      "cell_type": "code",
      "source": [
        "#Criando a classificação da arvore com limite de profundidade e mínimo de instancias\n",
        "class_arvore_decisao = tree.DecisionTreeClassifier(max_depth=10, random_state=0, min_samples_leaf=10)\n",
        "#Execução do classificador\n",
        "y_pred_arvore = executar_class(class_arvore_decisao, X_train, X_test, y_train)"
      ],
      "metadata": {
        "id": "KGcTdojV1sX3"
      },
      "execution_count": 42,
      "outputs": []
    },
    {
      "cell_type": "code",
      "source": [
        "#Validação da Arvore\n",
        "validar_arvore(y_test, y_pred_arvore)"
      ],
      "metadata": {
        "colab": {
          "base_uri": "https://localhost:8080/"
        },
        "id": "BwodcXZc11E3",
        "outputId": "ac9923f9-18ba-4e1d-9e92-761ed61c4dd8"
      },
      "execution_count": 43,
      "outputs": [
        {
          "output_type": "stream",
          "name": "stdout",
          "text": [
            "A acurácia da Árvore é de 0.9993679997191109.\n",
            "A matriz de confusão:\n",
            "  [[28426     6]\n",
            " [   12    37]]\n",
            "Score de Precisão: 0.8604651162790697\n",
            "Recall Score: 0.7551020408163265\n"
          ]
        }
      ]
    },
    {
      "cell_type": "markdown",
      "source": [
        "O recall teve uma melhora, mas perdemos precisão. Logo, vamos ignorar o valor mínimo de recall e trabalhar somente com o limite de profundidade."
      ],
      "metadata": {
        "id": "y7elLZZL2bSu"
      }
    },
    {
      "cell_type": "markdown",
      "source": [
        "#Emsemble Learning"
      ],
      "metadata": {
        "id": "4ID2vw3SJx53"
      }
    },
    {
      "cell_type": "markdown",
      "source": [
        "**Bagging** - amostras aleatórias são agregadas em diferentes modelos\n",
        "\n",
        "**Random Forest** - uma das técnicas dentro da Bagging. Seleciona aleatoriamente instâncias e atributos e gera uma árvore de decisão. Esse processo se repete e o processo gera N árvores (em torno de 100). O resultado final é o resultado que mais aparece ou a média dos valores obtidos.\n",
        "As árvores construídas são independentes entre si.\n",
        "\n",
        "**Bootstrapping samplig** - método que consiste em construir várias amostras a partir de um conjunto inicial de instâncias."
      ],
      "metadata": {
        "id": "n0pia6ahJ64h"
      }
    },
    {
      "cell_type": "markdown",
      "source": [
        "##Random Forest"
      ],
      "metadata": {
        "id": "pgqOTZdbNxbW"
      }
    },
    {
      "cell_type": "code",
      "source": [
        "%%time\n",
        "class_random_forest = RandomForestClassifier(n_estimators=100, random_state=0)\n",
        "y_pred_random_forest = executar_class(class_random_forest, X_train, X_test, y_train)"
      ],
      "metadata": {
        "id": "ONBZETM7Hfh0",
        "colab": {
          "base_uri": "https://localhost:8080/"
        },
        "outputId": "db725a28-db21-4cd4-805e-30b31f06849d"
      },
      "execution_count": 55,
      "outputs": [
        {
          "output_type": "stream",
          "name": "stdout",
          "text": [
            "CPU times: user 18.4 s, sys: 12.4 ms, total: 18.5 s\n",
            "Wall time: 18.8 s\n"
          ]
        }
      ]
    },
    {
      "cell_type": "code",
      "source": [
        "salvar_arvore(class_random_forest.estimators_[0], \"random_forest1\")\n",
        "salvar_arvore(class_random_forest.estimators_[1], \"random_fores2\")"
      ],
      "metadata": {
        "id": "phgPACJ8JAxN"
      },
      "execution_count": null,
      "outputs": []
    },
    {
      "cell_type": "code",
      "source": [
        "validar_arvore(y_test, y_pred_random_forest)"
      ],
      "metadata": {
        "id": "_Pv00lcPQoxm",
        "colab": {
          "base_uri": "https://localhost:8080/"
        },
        "outputId": "ba0d7d5a-2dad-49d9-d11c-e626911d4fb4"
      },
      "execution_count": 56,
      "outputs": [
        {
          "output_type": "stream",
          "name": "stdout",
          "text": [
            "A acurácia da Árvore é de 0.9993679997191109.\n",
            "A matriz de confusão:\n",
            "  [[28426     6]\n",
            " [   12    37]]\n",
            "Score de Precisão: 0.8604651162790697\n",
            "Recall Score: 0.7551020408163265\n"
          ]
        }
      ]
    },
    {
      "cell_type": "markdown",
      "source": [
        "###Otimizando a Random Forest"
      ],
      "metadata": {
        "id": "cJmAe-CTg4t7"
      }
    },
    {
      "cell_type": "code",
      "source": [
        "#Diminuímos a quantidade de árvores e a profundidade para tentar otimizar o tempo de processamento\n",
        "%%time\n",
        "class_random_forest2= RandomForestClassifier(n_estimators=50, random_state=0, max_depth=10)\n",
        "y_pred_random_forest2 = executar_class(class_random_forest2, X_train, X_test, y_train)"
      ],
      "metadata": {
        "colab": {
          "base_uri": "https://localhost:8080/"
        },
        "id": "6FhRU6MMfNcr",
        "outputId": "f806a26a-d5ae-455d-dc45-1b5a776fec99"
      },
      "execution_count": 68,
      "outputs": [
        {
          "output_type": "stream",
          "name": "stdout",
          "text": [
            "CPU times: user 18.7 s, sys: 7.44 ms, total: 18.7 s\n",
            "Wall time: 18.8 s\n"
          ]
        }
      ]
    },
    {
      "cell_type": "code",
      "source": [
        "validar_arvore(y_test, y_pred_random_forest2)"
      ],
      "metadata": {
        "colab": {
          "base_uri": "https://localhost:8080/"
        },
        "id": "MSbfp-KzhET2",
        "outputId": "bff19e14-554d-4db3-e634-797416c2a031"
      },
      "execution_count": 69,
      "outputs": [
        {
          "output_type": "stream",
          "name": "stdout",
          "text": [
            "A acurácia da Árvore é de 0.9993679997191109.\n",
            "A matriz de confusão:\n",
            "  [[28426     6]\n",
            " [   12    37]]\n",
            "Score de Precisão: 0.8604651162790697\n",
            "Recall Score: 0.7551020408163265\n"
          ]
        }
      ]
    },
    {
      "cell_type": "markdown",
      "source": [
        "#Boosting\n",
        "\n",
        "**Algoritmo AdaBoost** - a cada vez que uma árvore é gerada, a nova tentará corrigir os erros da anterior. Os modelos são sequenciais e dependentes. Atribuímos um peso a cada árvore gerada. Quando a instância for classificada incorretamente, o valor de α será positivo, ou seja, terá um peso maior. Para classificações corretas, o α será negativo.\n",
        "As árvores são simples, ou seja, tem apenas um nó.\n",
        "\n",
        "Erro Total = n de instâncias classificadas corretamente / n total de instâncias\n",
        "\n",
        "α (influência da árvore) = 1/2 * log (1 - Erro total/Erro total)"
      ],
      "metadata": {
        "id": "mm8cPOw49qT5"
      }
    },
    {
      "cell_type": "code",
      "source": [
        "%%time\n",
        "class_adaboost = AdaBoostClassifier(random_state=0) #o padrão de estimadores é 50\n",
        "y_pred_adaboost = executar_class(class_adaboost, X_train, X_test, y_train)"
      ],
      "metadata": {
        "colab": {
          "base_uri": "https://localhost:8080/"
        },
        "id": "Y10rDEGxhphe",
        "outputId": "3cd40d11-91e8-4153-e6ef-63e0e4e038f6"
      },
      "execution_count": 62,
      "outputs": [
        {
          "output_type": "stream",
          "name": "stdout",
          "text": [
            "CPU times: user 19.2 s, sys: 8.81 ms, total: 19.2 s\n",
            "Wall time: 19.7 s\n"
          ]
        }
      ]
    },
    {
      "cell_type": "code",
      "source": [
        "salvar_arvore(class_adaboost.estimators_[0], \"adaboost1\")\n",
        "salvar_arvore(class_adaboost.estimators_[1], \"adaboost2\")"
      ],
      "metadata": {
        "id": "-vRigWwCCJX1"
      },
      "execution_count": null,
      "outputs": []
    },
    {
      "cell_type": "code",
      "source": [
        "validar_arvore(y_test, y_pred_adaboost)"
      ],
      "metadata": {
        "colab": {
          "base_uri": "https://localhost:8080/"
        },
        "id": "jdmnKad_Cagr",
        "outputId": "e6f1bf4d-9fab-46ed-9375-d9af06ecc14b"
      },
      "execution_count": 64,
      "outputs": [
        {
          "output_type": "stream",
          "name": "stdout",
          "text": [
            "A acurácia da Árvore é de 0.9993679997191109.\n",
            "A matriz de confusão:\n",
            "  [[28426     6]\n",
            " [   12    37]]\n",
            "Score de Precisão: 0.8604651162790697\n",
            "Recall Score: 0.7551020408163265\n"
          ]
        }
      ]
    },
    {
      "cell_type": "markdown",
      "source": [
        "##Otimizando a Adaboost"
      ],
      "metadata": {
        "id": "XQpcbJIWDiOo"
      }
    },
    {
      "cell_type": "code",
      "source": [
        "%%time\n",
        "class_adaboost2 = AdaBoostClassifier(n_estimators = 50, random_state=0)\n",
        "y_pred_adaboost2 = executar_class(class_adaboost2, X_train, X_test, y_train)"
      ],
      "metadata": {
        "colab": {
          "base_uri": "https://localhost:8080/"
        },
        "id": "7o531noHChDj",
        "outputId": "8f5030d4-8853-435e-e010-812e69a2f474"
      },
      "execution_count": 66,
      "outputs": [
        {
          "output_type": "stream",
          "name": "stdout",
          "text": [
            "CPU times: user 18.4 s, sys: 34.6 ms, total: 18.5 s\n",
            "Wall time: 18.5 s\n"
          ]
        }
      ]
    },
    {
      "cell_type": "code",
      "source": [
        "validar_arvore(y_test, y_pred_adaboost2)"
      ],
      "metadata": {
        "colab": {
          "base_uri": "https://localhost:8080/"
        },
        "id": "EJGAIKxpDs9s",
        "outputId": "66797e84-045a-4a7c-b51d-9b94077cd51f"
      },
      "execution_count": 67,
      "outputs": [
        {
          "output_type": "stream",
          "name": "stdout",
          "text": [
            "A acurácia da Árvore é de 0.9993679997191109.\n",
            "A matriz de confusão:\n",
            "  [[28426     6]\n",
            " [   12    37]]\n",
            "Score de Precisão: 0.8604651162790697\n",
            "Recall Score: 0.7551020408163265\n"
          ]
        }
      ]
    },
    {
      "cell_type": "code",
      "source": [
        "#Alterando o número de estimadores\n",
        "%%time\n",
        "class_adaboost3 = AdaBoostClassifier(n_estimators = 200, random_state=0)\n",
        "y_pred_adaboost3 = executar_class(class_adaboost3, X_train, X_test, y_train)"
      ],
      "metadata": {
        "colab": {
          "base_uri": "https://localhost:8080/"
        },
        "id": "ed_xOpATFyXq",
        "outputId": "25997a77-37d3-4837-a447-6afefe198f1a"
      },
      "execution_count": 72,
      "outputs": [
        {
          "output_type": "stream",
          "name": "stdout",
          "text": [
            "CPU times: user 19.8 s, sys: 14.2 ms, total: 19.8 s\n",
            "Wall time: 20.5 s\n"
          ]
        }
      ]
    },
    {
      "cell_type": "code",
      "source": [
        "validar_arvore(y_test, y_pred_adaboost3)"
      ],
      "metadata": {
        "colab": {
          "base_uri": "https://localhost:8080/"
        },
        "id": "F_uOyuqrGB_B",
        "outputId": "912cd3f2-68e0-4336-c46b-057654f487cc"
      },
      "execution_count": 73,
      "outputs": [
        {
          "output_type": "stream",
          "name": "stdout",
          "text": [
            "A acurácia da Árvore é de 0.9993679997191109.\n",
            "A matriz de confusão:\n",
            "  [[28426     6]\n",
            " [   12    37]]\n",
            "Score de Precisão: 0.8604651162790697\n",
            "Recall Score: 0.7551020408163265\n"
          ]
        }
      ]
    }
  ]
}